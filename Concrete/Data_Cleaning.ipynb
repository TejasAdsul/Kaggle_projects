{
 "cells": [
  {
   "cell_type": "code",
   "execution_count": 35,
   "id": "f5ab5a81",
   "metadata": {},
   "outputs": [],
   "source": [
    "%matplotlib inline\n",
    "import pandas as pd\n",
    "import numpy as np\n",
    "import matplotlib.pyplot as plt\n",
    "import seaborn as sns\n",
    "import warnings\n",
    "warnings.simplefilter(action='ignore', category=FutureWarning)"
   ]
  },
  {
   "cell_type": "code",
   "execution_count": 36,
   "id": "07a59ff6",
   "metadata": {},
   "outputs": [
    {
     "name": "stdout",
     "output_type": "stream",
     "text": [
      "<class 'pandas.core.frame.DataFrame'>\n",
      "RangeIndex: 824 entries, 0 to 823\n",
      "Data columns (total 9 columns):\n",
      " #   Column            Non-Null Count  Dtype  \n",
      "---  ------            --------------  -----  \n",
      " 0   cement            824 non-null    float64\n",
      " 1   slag              824 non-null    float64\n",
      " 2   flyash            824 non-null    float64\n",
      " 3   water             824 non-null    float64\n",
      " 4   superplasticizer  824 non-null    float64\n",
      " 5   coarseaggregate   824 non-null    float64\n",
      " 6   fineaggregate     824 non-null    float64\n",
      " 7   age               824 non-null    int64  \n",
      " 8   csMPa             824 non-null    float64\n",
      "dtypes: float64(8), int64(1)\n",
      "memory usage: 58.1 KB\n"
     ]
    }
   ],
   "source": [
    "# Import training dataset, check for null entries\n",
    "df_train = pd.read_csv('train_concrete.csv')\n",
    "df_train.info()"
   ]
  },
  {
   "cell_type": "code",
   "execution_count": 37,
   "id": "d99c831b",
   "metadata": {},
   "outputs": [
    {
     "name": "stdout",
     "output_type": "stream",
     "text": [
      "<class 'pandas.core.frame.DataFrame'>\n",
      "RangeIndex: 206 entries, 0 to 205\n",
      "Data columns (total 9 columns):\n",
      " #   Column            Non-Null Count  Dtype  \n",
      "---  ------            --------------  -----  \n",
      " 0   cement            206 non-null    float64\n",
      " 1   slag              206 non-null    float64\n",
      " 2   flyash            206 non-null    float64\n",
      " 3   water             206 non-null    float64\n",
      " 4   superplasticizer  206 non-null    float64\n",
      " 5   coarseaggregate   206 non-null    float64\n",
      " 6   fineaggregate     206 non-null    float64\n",
      " 7   age               206 non-null    int64  \n",
      " 8   csMPa             206 non-null    float64\n",
      "dtypes: float64(8), int64(1)\n",
      "memory usage: 14.6 KB\n"
     ]
    }
   ],
   "source": [
    "# Import test dataset, check for null entries\n",
    "df_test = pd.read_csv('test_concrete.csv')\n",
    "df_test.info()"
   ]
  },
  {
   "cell_type": "code",
   "execution_count": 38,
   "id": "a27c5682",
   "metadata": {},
   "outputs": [],
   "source": [
    "# Write cleaned data to csv files\n",
    "df_train.to_csv('cleaned_train_concrete.csv',index=False)\n",
    "df_test.to_csv('cleaned_test_concrete.csv',index=False)"
   ]
  },
  {
   "cell_type": "code",
   "execution_count": null,
   "id": "98403535",
   "metadata": {},
   "outputs": [],
   "source": []
  }
 ],
 "metadata": {
  "kernelspec": {
   "display_name": "Python 3",
   "language": "python",
   "name": "python3"
  },
  "language_info": {
   "codemirror_mode": {
    "name": "ipython",
    "version": 3
   },
   "file_extension": ".py",
   "mimetype": "text/x-python",
   "name": "python",
   "nbconvert_exporter": "python",
   "pygments_lexer": "ipython3",
   "version": "3.9.5"
  }
 },
 "nbformat": 4,
 "nbformat_minor": 5
}
